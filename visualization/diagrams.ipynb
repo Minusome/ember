{
 "cells": [
  {
   "cell_type": "markdown",
   "source": [
    "Imports"
   ],
   "metadata": {
    "collapsed": false
   }
  },
  {
   "cell_type": "code",
   "execution_count": 1,
   "outputs": [],
   "source": [
    "from matplotlib import pyplot as plt\n",
    "import dwave_networkx as dnx\n",
    "import seaborn as sns"
   ],
   "metadata": {
    "collapsed": false,
    "pycharm": {
     "name": "#%%\n"
    }
   }
  },
  {
   "cell_type": "markdown",
   "source": [
    "Draw background grid for each embedding plot"
   ],
   "metadata": {
    "collapsed": false
   }
  },
  {
   "cell_type": "code",
   "execution_count": 2,
   "metadata": {
    "collapsed": true
   },
   "outputs": [],
   "source": [
    "def plot_grid():\n",
    "    fig, ax = plt.subplots(1, 1, tight_layout=True)\n",
    "\n",
    "    ax.get_xaxis().set_visible(False)\n",
    "    ax.get_yaxis().set_visible(False)\n",
    "    ax.spines['top'].set_visible(False)\n",
    "    ax.spines['right'].set_visible(False)\n",
    "    ax.spines['left'].set_visible(False)\n",
    "    ax.spines['bottom'].set_visible(False)\n",
    "\n",
    "    ax.set_facecolor(\"#F5F5F5\")\n",
    "    ax.set_aspect(\"equal\")\n",
    "    ax.set_xlim(0, 16)\n",
    "    ax.set_ylim(0, 16)\n",
    "\n",
    "    for x in range(16):\n",
    "        if x != 0:\n",
    "            ax.axvline(x, lw=0.5, color='#989898', zorder=5)\n",
    "        ax.axhline(x, lw=0.5, color='#989898', zorder=5)"
   ]
  },
  {
   "cell_type": "markdown",
   "source": [
    "Color palette"
   ],
   "metadata": {
    "collapsed": false
   }
  },
  {
   "cell_type": "code",
   "execution_count": 3,
   "outputs": [
    {
     "data": {
      "text/plain": "[(0.9677975592919913, 0.44127456009157356, 0.5358103155058701),\n (0.8087954113106306, 0.5634700050056693, 0.19502642696727285),\n (0.5920891529639701, 0.6418467016378244, 0.1935069134991043),\n (0.19783576093349015, 0.6955516966063037, 0.3995301037444499),\n (0.21044753832183283, 0.6773105080456748, 0.6433941168468681),\n (0.22335772267769388, 0.6565792317435265, 0.8171355503265633),\n (0.6423044349219739, 0.5497680051256467, 0.9582651433656727),\n (0.9603888539940703, 0.3814317878772117, 0.8683117650835491)]",
      "text/html": "<svg  width=\"440\" height=\"55\"><rect x=\"0\" y=\"0\" width=\"55\" height=\"55\" style=\"fill:#f77189;stroke-width:2;stroke:rgb(255,255,255)\"/><rect x=\"55\" y=\"0\" width=\"55\" height=\"55\" style=\"fill:#ce9032;stroke-width:2;stroke:rgb(255,255,255)\"/><rect x=\"110\" y=\"0\" width=\"55\" height=\"55\" style=\"fill:#97a431;stroke-width:2;stroke:rgb(255,255,255)\"/><rect x=\"165\" y=\"0\" width=\"55\" height=\"55\" style=\"fill:#32b166;stroke-width:2;stroke:rgb(255,255,255)\"/><rect x=\"220\" y=\"0\" width=\"55\" height=\"55\" style=\"fill:#36ada4;stroke-width:2;stroke:rgb(255,255,255)\"/><rect x=\"275\" y=\"0\" width=\"55\" height=\"55\" style=\"fill:#39a7d0;stroke-width:2;stroke:rgb(255,255,255)\"/><rect x=\"330\" y=\"0\" width=\"55\" height=\"55\" style=\"fill:#a48cf4;stroke-width:2;stroke:rgb(255,255,255)\"/><rect x=\"385\" y=\"0\" width=\"55\" height=\"55\" style=\"fill:#f561dd;stroke-width:2;stroke:rgb(255,255,255)\"/></svg>"
     },
     "execution_count": 3,
     "metadata": {},
     "output_type": "execute_result"
    }
   ],
   "source": [
    "# palette = sns.color_palette(as_cmap=True)\n",
    "palette = sns.color_palette(\"husl\", 8)\n",
    "cmap = lambda i : palette[i]\n",
    "palette"
   ],
   "metadata": {
    "collapsed": false,
    "pycharm": {
     "name": "#%%\n"
    }
   }
  },
  {
   "cell_type": "markdown",
   "source": [
    "Draw the bipartite template embedding pattern"
   ],
   "metadata": {
    "collapsed": false
   }
  },
  {
   "cell_type": "code",
   "source": [
    "plot_grid()\n",
    "\n",
    "red_grad = sns.color_palette(\"blend:#DEA9B2,#A72A3E\", 16)\n",
    "blue_grad = sns.color_palette(\"blend:#2A81AE,#9EC8DE\", 16)\n",
    "\n",
    "for i in range(16):\n",
    "    plt.plot([0.5, 15.5],\n",
    "             [15.5 - i, 15.5 - i],\n",
    "             \"-\", lw=5, solid_capstyle='round', c=red_grad[i])\n",
    "\n",
    "for i in range(16):\n",
    "    plt.plot([0.5 + i, 0.5 + i],\n",
    "             [0.5, 15.5],\n",
    "             \"-\", lw=5, solid_capstyle='round', c=blue_grad[i])"
   ],
   "metadata": {
    "collapsed": false,
    "pycharm": {
     "name": "#%%\n"
    }
   },
   "execution_count": 4,
   "outputs": [
    {
     "data": {
      "text/plain": "<Figure size 432x288 with 1 Axes>",
      "image/png": "[encoded data removed]"
     },
     "metadata": {
      "needs_background": "light"
     },
     "output_type": "display_data"
    }
   ]
  },
  {
   "cell_type": "markdown",
   "source": [
    "Draw the quadripartite template embedding pattern"
   ],
   "metadata": {
    "collapsed": false
   }
  },
  {
   "cell_type": "code",
   "execution_count": 8,
   "outputs": [
    {
     "data": {
      "text/plain": "<Figure size 432x288 with 1 Axes>",
      "image/png": "[encoded data removed]"
     },
     "metadata": {
      "needs_background": "light"
     },
     "output_type": "display_data"
    }
   ],
   "source": [
    "plot_grid()\n",
    "for i in range(0, 8):\n",
    "    plt.plot([0.5, 15.5],\n",
    "             [15.5 - i, 15.5 - i],\n",
    "             \"-\", lw=5, solid_capstyle='round', c=cmap(0))\n",
    "\n",
    "for i in range(8, 16):\n",
    "    plt.plot([0.5, 15.5],\n",
    "             [15.5 - i, 15.5 - i],\n",
    "             \"-\", lw=5, solid_capstyle='round', c=cmap(1))\n",
    "\n",
    "for i in range(16):\n",
    "    plt.plot([0.5 + i, 0.5 + i],\n",
    "             [8.5, 15.5],\n",
    "             \"-\", lw=5, solid_capstyle='round', c=cmap(5))\n",
    "\n",
    "for i in range(16):\n",
    "    plt.plot([0.5 + i, 0.5 + i],\n",
    "             [0.5, 7.5],\n",
    "             \"-\", lw=5, solid_capstyle='round', c=cmap(3))"
   ],
   "metadata": {
    "collapsed": false,
    "pycharm": {
     "name": "#%%\n"
    }
   }
  },
  {
   "cell_type": "markdown",
   "source": [
    "Draw the clique overlap annealing embedding pattern"
   ],
   "metadata": {
    "collapsed": false
   }
  },
  {
   "cell_type": "code",
   "execution_count": 6,
   "outputs": [
    {
     "data": {
      "text/plain": "<Figure size 432x288 with 1 Axes>",
      "image/png": "[encoded data removed]"
     },
     "metadata": {
      "needs_background": "light"
     },
     "output_type": "display_data"
    }
   ],
   "source": [
    "plot_grid()\n",
    "red_grad = sns.color_palette(\"blend:#DEA9B2,#A72A3E\", 16)\n",
    "blue_grad = sns.color_palette(\"blend:#2A81AE,#9EC8DE\", 16)\n",
    "for i in range(16):\n",
    "    plt.plot([0.5, 15.5],\n",
    "             [15.5 - i, 15.5 - i],\n",
    "             \"-\", lw=5, solid_capstyle='round', c=red_grad[i])\n",
    "\n",
    "for i in range(16):\n",
    "    plt.plot([0.5 + i, 0.5 + i],\n",
    "             [15.5, 15.5 - i],\n",
    "             \"-\", lw=5, solid_capstyle='round', c=red_grad[i])\n",
    "\n",
    "for i in range(8):\n",
    "    plt.plot([0.5 + i, 0.5 + i],\n",
    "             [0.5, 15.5 - i],\n",
    "             \"-\", lw=5, solid_capstyle='round', c=blue_grad[i])"
   ],
   "metadata": {
    "collapsed": false,
    "pycharm": {
     "name": "#%%\n"
    }
   }
  },
  {
   "cell_type": "markdown",
   "source": [
    "Demonstrate a swap (part 1)"
   ],
   "metadata": {
    "collapsed": false
   }
  },
  {
   "cell_type": "code",
   "execution_count": 18,
   "outputs": [
    {
     "data": {
      "text/plain": "<Figure size 432x288 with 1 Axes>",
      "image/png": "[encoded data removed]"
     },
     "metadata": {
      "needs_background": "light"
     },
     "output_type": "display_data"
    }
   ],
   "source": [
    "plot_grid()\n",
    "grey = \"#696969\"\n",
    "for i in range(16):\n",
    "    c = cmap(0) if i == 5 else grey\n",
    "    plt.plot([0.5, 15.5],\n",
    "             [15.5 - i, 15.5 - i],\n",
    "             \"-\", lw=5, solid_capstyle='round', c=c)\n",
    "\n",
    "for i in range(16):\n",
    "    c = cmap(0) if i == 5 else grey\n",
    "    plt.plot([0.5 + i, 0.5 + i],\n",
    "             [15.5, 15.5 - i],\n",
    "             \"-\", lw=5, solid_capstyle='round', c=c)\n",
    "\n",
    "for i in range(8):\n",
    "    c = cmap(5) if i == 5 else grey\n",
    "    plt.plot([0.5 + i, 0.5 + i],\n",
    "             [0.5, 15.5 - i],\n",
    "             \"-\", lw=5, solid_capstyle='round', c=c)"
   ],
   "metadata": {
    "collapsed": false,
    "pycharm": {
     "name": "#%%\n"
    }
   }
  },
  {
   "cell_type": "markdown",
   "source": [
    "Demonstrate a swap (part 2)"
   ],
   "metadata": {
    "collapsed": false
   }
  },
  {
   "cell_type": "code",
   "execution_count": 20,
   "outputs": [
    {
     "data": {
      "text/plain": "<Figure size 432x288 with 1 Axes>",
      "image/png": "[encoded data removed]"
     },
     "metadata": {
      "needs_background": "light"
     },
     "output_type": "display_data"
    }
   ],
   "source": [
    "plot_grid()\n",
    "grey = \"#696969\"\n",
    "for i in range(16):\n",
    "    c = cmap(5) if i == 5 else grey\n",
    "    plt.plot([0.5, 15.5],\n",
    "             [15.5 - i, 15.5 - i],\n",
    "             \"-\", lw=5, solid_capstyle='round', c=c)\n",
    "\n",
    "for i in range(16):\n",
    "    c = cmap(5) if i == 5 else grey\n",
    "    plt.plot([0.5 + i, 0.5 + i],\n",
    "             [15.5, 15.5 - i],\n",
    "             \"-\", lw=5, solid_capstyle='round', c=c)\n",
    "\n",
    "for i in range(8):\n",
    "    c = cmap(0) if i == 5 else grey\n",
    "    plt.plot([0.5 + i, 0.5 + i],\n",
    "             [0.5, 15.5 - i],\n",
    "             \"-\", lw=5, solid_capstyle='round', c=c)"
   ],
   "metadata": {
    "collapsed": false,
    "pycharm": {
     "name": "#%%\n"
    }
   }
  },
  {
   "cell_type": "markdown",
   "source": [
    "Demonstrate a shift (part 1)"
   ],
   "metadata": {
    "collapsed": false
   }
  },
  {
   "cell_type": "code",
   "execution_count": 21,
   "outputs": [
    {
     "data": {
      "text/plain": "<Figure size 432x288 with 1 Axes>",
      "image/png": "[encoded data removed]"
     },
     "metadata": {
      "needs_background": "light"
     },
     "output_type": "display_data"
    }
   ],
   "source": [
    "plot_grid()\n",
    "grey = \"#696969\"\n",
    "for i in range(16):\n",
    "    c = cmap(0) if i == 5 else grey\n",
    "    plt.plot([0.5, 15.5],\n",
    "             [15.5 - i, 15.5 - i],\n",
    "             \"-\", lw=5, solid_capstyle='round', c=c)\n",
    "\n",
    "for i in range(16):\n",
    "    c = cmap(0) if i == 5 else grey\n",
    "    plt.plot([0.5 + i, 0.5 + i],\n",
    "             [15.5, 15.5 - i],\n",
    "             \"-\", lw=5, solid_capstyle='round', c=c)\n",
    "\n",
    "for i in range(8):\n",
    "    c = cmap(5) if i == 5 else grey\n",
    "    plt.plot([0.5 + i, 0.5 + i],\n",
    "             [0.5, 15.5 - i],\n",
    "             \"-\", lw=5, solid_capstyle='round', c=c)"
   ],
   "metadata": {
    "collapsed": false,
    "pycharm": {
     "name": "#%%\n"
    }
   }
  },
  {
   "cell_type": "markdown",
   "source": [
    "Demonstrate a shift (part 2)"
   ],
   "metadata": {
    "collapsed": false
   }
  },
  {
   "cell_type": "code",
   "execution_count": 33,
   "outputs": [
    {
     "data": {
      "text/plain": "[<matplotlib.lines.Line2D at 0x128a86bb0>]"
     },
     "execution_count": 33,
     "metadata": {},
     "output_type": "execute_result"
    },
    {
     "data": {
      "text/plain": "<Figure size 432x288 with 1 Axes>",
      "image/png": "[encoded data removed]"
     },
     "metadata": {
      "needs_background": "light"
     },
     "output_type": "display_data"
    }
   ],
   "source": [
    "plot_grid()\n",
    "grey = \"#696969\"\n",
    "for i in range(16):\n",
    "    if i == 5:\n",
    "        continue\n",
    "    plt.plot([0.5, 15.5],\n",
    "             [15.5 - i, 15.5 - i],\n",
    "             \"-\", lw=5, solid_capstyle='round', c=grey)\n",
    "\n",
    "for i in range(16):\n",
    "    c = cmap(0) if i == 5 else grey\n",
    "    plt.plot([0.5 + i, 0.5 + i],\n",
    "             [15.5, 15.5 - i],\n",
    "             \"-\", lw=5, solid_capstyle='round', c=c)\n",
    "\n",
    "for i in range(8):\n",
    "    c = cmap(5) if i == 5 else grey\n",
    "    plt.plot([0.5 + i, 0.5 + i],\n",
    "             [0.5, 15.5 - i],\n",
    "             \"-\", lw=5, solid_capstyle='round', c=c)\n",
    "\n",
    "plt.plot([0.5, 5.25],\n",
    "         [10.25, 10.25],\n",
    "         \"-\", lw=5, solid_capstyle='round', c=cmap(5))\n",
    "\n",
    "plt.plot([5.5, 15.5],\n",
    "         [10.5, 10.5],\n",
    "         \"-\", lw=5, solid_capstyle='round', c=cmap(0))"
   ],
   "metadata": {
    "collapsed": false,
    "pycharm": {
     "name": "#%%\n"
    }
   }
  }
 ],
 "metadata": {
  "kernelspec": {
   "display_name": "Python 3",
   "language": "python",
   "name": "python3"
  },
  "language_info": {
   "codemirror_mode": {
    "name": "ipython",
    "version": 2
   },
   "file_extension": ".py",
   "mimetype": "text/x-python",
   "name": "python",
   "nbconvert_exporter": "python",
   "pygments_lexer": "ipython2",
   "version": "2.7.6"
  }
 },
 "nbformat": 4,
 "nbformat_minor": 0
}