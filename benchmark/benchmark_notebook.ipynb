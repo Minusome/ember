{
 "cells": [
  {
   "cell_type": "markdown",
   "metadata": {},
   "source": [
    "Generate all the guest graphs and pickle them"
   ]
  },
  {
   "cell_type": "code",
   "execution_count": null,
   "metadata": {
    "jupyter": {
     "outputs_hidden": true
    }
   },
   "outputs": [],
   "source": [
    "from ember.sample import *\n",
    "import pickle\n",
    "\n",
    "edge_densities = [\"low\", \"medium\", \"high\"]\n",
    "\n",
    "guest_generators = {\n",
    "    \"barabasi_albert\": barabasi_albert_graph,\n",
    "    \"d_regular\": d_regular_graph,\n",
    "    \"erdos_reyni\": erdos_reyni_graph,\n",
    "    \"noisy_bipartite\": noisy_bipartite_graph\n",
    "}\n",
    "seeds = [10, 20, 30, 40, 50]\n",
    "\n",
    "all_guests = {}\n",
    "\n",
    "for graph_type, generator in guest_generators.items():\n",
    "    print(f\"Graph type: {graph_type}\")\n",
    "    all_guests[graph_type] = {}\n",
    "    for num_nodes in range(65, 96):\n",
    "        print(f\"Nodes: {num_nodes}\")\n",
    "        all_guests[graph_type][num_nodes] = {}\n",
    "        for edge_density in edge_densities:\n",
    "            print(f\"Density: {edge_density}\")\n",
    "            all_guests[graph_type][num_nodes][edge_density] = {}\n",
    "            for i, seed in enumerate(seeds):\n",
    "                all_guests[graph_type][num_nodes][edge_density][i] = generator(\n",
    "                    num_nodes, edge_density, seed)\n",
    "\n",
    "    with open(f'{graph_type}.pickle', 'wb') as handle:\n",
    "        pickle.dump(all_guests[graph_type], handle, protocol=pickle.HIGHEST_PROTOCOL)\n"
   ]
  },
  {
   "cell_type": "markdown",
   "metadata": {},
   "source": [
    "Load the guest graphs from the pickles"
   ]
  },
  {
   "cell_type": "code",
   "execution_count": 1,
   "metadata": {
    "jupyter": {
     "outputs_hidden": false
    },
    "pycharm": {
     "name": "#%%\n"
    }
   },
   "outputs": [],
   "source": [
    "import pickle\n",
    "\n",
    "guest_types = {\n",
    "    \"barabasi_albert\",\n",
    "    \"d_regular\",\n",
    "    \"erdos_reyni\",\n",
    "    \"noisy_bipartite\"\n",
    "}\n",
    "\n",
    "all_guests = {}\n",
    "\n",
    "for graph_type in guest_types:\n",
    "     with open(f'guests/{graph_type}.pickle', 'rb') as handle:\n",
    "            all_guests[graph_type] = pickle.load(handle)\n"
   ]
  },
  {
   "cell_type": "markdown",
   "metadata": {},
   "source": [
    "Draw some graphs to check"
   ]
  },
  {
   "cell_type": "code",
   "execution_count": null,
   "metadata": {},
   "outputs": [],
   "source": [
    "from matplotlib import pyplot as plt\n",
    "import networkx as nx\n",
    "\n",
    "plt.ion()\n",
    "plt.figure(figsize=(20, 20))\n",
    "# nx.draw(all_guests[\"barabasi_albert\"][80][\"high\"][2])\n",
    "nx.draw(all_guests[\"erdos_reyni\"][70][\"medium\"][2])"
   ]
  },
  {
   "cell_type": "markdown",
   "source": [
    "Start of benchmarking"
   ],
   "metadata": {
    "collapsed": false,
    "pycharm": {
     "name": "#%% md\n"
    }
   }
  },
  {
   "cell_type": "code",
   "source": [
    "non_faulty_results = {}\n",
    "\n",
    "for alg in [\"minorminer\", ]\n",
    "\n",
    "\n",
    "faulty_results = {}\n",
    "\n",
    "def get_chain_stats(emb):\n",
    "    length = [len(chain) for chain in emb.values()]\n",
    "    length = sorted(length)\n",
    "    max_length = length[-1]\n",
    "    mid = len(length) // 2\n",
    "    median_length = (length[mid] + length[~mid]) / 2\n",
    "    qubits_used = sum(length)\n",
    "    return max_length, median_length, qubits_used\n",
    "\n"
   ],
   "metadata": {
    "collapsed": false,
    "pycharm": {
     "name": "#%% \n"
    }
   },
   "execution_count": null,
   "outputs": []
  },
  {
   "cell_type": "markdown",
   "source": [
    "Minorminer\n"
   ],
   "metadata": {
    "collapsed": false
   }
  },
  {
   "cell_type": "code",
   "source": [
    "from minorminer import find_embedding\n",
    "from ember.util import *\n",
    "from ember.hardware.chimera import D_WAVE_2000Q\n",
    "import time\n",
    "\n",
    "host = D_WAVE_2000Q()\n",
    "\n",
    "for graph_type in guest_types:\n",
    "    for size in range(65, 96):\n",
    "        for density in [\"low\", \"medium\", \"high\"]:\n",
    "            success = 0\n",
    "            data = {}\n",
    "            for instance in range(5):\n",
    "                guest = all_guests[graph_type][size][density][instance]\n",
    "                start_time = time.time()\n",
    "                emb = find_embedding(guest, host)\n",
    "                total = time.time() - start_time\n",
    "                if check_embedding(emb, guest, host):\n",
    "                    max_chain, median_length, qubits_used = get_chain_stats(emb)\n",
    "                    data[instance] = {\n",
    "                        \"max_chain_length\": max_chain,\n",
    "                        \"median_chain_length\": median_length,\n",
    "                        \"qubits_used\": qubits_used,\n",
    "                        \"walltime\": total\n",
    "                    }\n",
    "\n",
    "\n",
    "\n",
    "\n",
    "\n",
    "\n",
    "\n",
    "\n",
    "\n",
    "\n",
    "\n",
    "\n",
    "\n",
    "\n",
    "\n",
    "\n",
    "\n",
    "\n",
    "\n"
   ],
   "metadata": {
    "collapsed": false,
    "pycharm": {
     "name": "#%%\n"
    }
   },
   "execution_count": 14,
   "outputs": [
    {
     "ename": "IndentationError",
     "evalue": "expected an indented block (<ipython-input-14-841538a434ac>, line 18)",
     "output_type": "error",
     "traceback": [
      "\u001B[0;36m  File \u001B[0;32m\"<ipython-input-14-841538a434ac>\"\u001B[0;36m, line \u001B[0;32m18\u001B[0m\n\u001B[0;31m    else:\u001B[0m\n\u001B[0m    ^\u001B[0m\n\u001B[0;31mIndentationError\u001B[0m\u001B[0;31m:\u001B[0m expected an indented block\n"
     ]
    }
   ]
  }
 ],
 "metadata": {
  "kernelspec": {
   "display_name": "Python 3",
   "language": "python",
   "name": "python3"
  },
  "language_info": {
   "codemirror_mode": {
    "name": "ipython",
    "version": 3
   },
   "file_extension": ".py",
   "mimetype": "text/x-python",
   "name": "python",
   "nbconvert_exporter": "python",
   "pygments_lexer": "ipython3",
   "version": "3.8.3"
  }
 },
 "nbformat": 4,
 "nbformat_minor": 4
}